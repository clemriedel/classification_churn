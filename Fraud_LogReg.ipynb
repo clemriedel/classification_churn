{
 "cells": [
  {
   "cell_type": "markdown",
   "metadata": {},
   "source": [
    "# Logistic regression"
   ]
  },
  {
   "cell_type": "code",
   "execution_count": null,
   "metadata": {
    "collapsed": true
   },
   "outputs": [],
   "source": [
    "from sklearn.linear_model import LogisticRegression\n",
    "from sklearn.cross_validation import cross_val_score\n",
    "from sklearn.cross_validation import train_test_split"
   ]
  },
  {
   "cell_type": "code",
   "execution_count": null,
   "metadata": {
    "collapsed": true
   },
   "outputs": [],
   "source": [
    "y = df['fraud']\n",
    "col=['has_venue', 'email_domain_ending']\n",
    "X = df[col]\n",
    "\n",
    "X.head()\n",
    "\n",
    "logreg = LogisticRegression()\n",
    "cross_val_score(logreg, X, y, cv=10, scoring='recall').mean()"
   ]
  },
  {
   "cell_type": "code",
   "execution_count": null,
   "metadata": {
    "collapsed": true
   },
   "outputs": [],
   "source": [
    "X_train, X_test, y_train, y_test = train_test_split(X, y, test_size=0.3, random_state=0)\n",
    "\n",
    "model = LogisticRegression()\n",
    "model.fit(X_train, y_train)\n",
    "\n",
    "logit_coefs = pd.DataFrame(zip(X.columns, np.transpose(model.coef_).squeeze())).\\\n",
    "    rename(columns = {0:'Variable', 1:'LogOdds'})\n",
    "    \n",
    "logit_coefs['OddsRatio'] = np.exp(logit_coefs.LogOdds)\n",
    "\n",
    "logit_coefs.sort_values('OddsRatio', ascending=False)"
   ]
  },
  {
   "cell_type": "markdown",
   "metadata": {},
   "source": [
    "# Random forest"
   ]
  },
  {
   "cell_type": "code",
   "execution_count": null,
   "metadata": {
    "collapsed": true
   },
   "outputs": [],
   "source": [
    "from sklearn.ensemble import RandomForestClassifier"
   ]
  },
  {
   "cell_type": "code",
   "execution_count": null,
   "metadata": {
    "collapsed": true
   },
   "outputs": [],
   "source": [
    "y = y.values\n",
    "X = X.values\n",
    "\n",
    "X_train, X_test, y_train, y_test = train_test_split(X,y, random_state=8, test_size=.2)\n",
    "rf = RandomForestClassifier().fit(X_train, y_train)\n",
    "\n",
    "importances = rf.feature_importances_\n",
    "std = np.std([tree.feature_importances_ for tree in rf.estimators_],\n",
    "            axis=0)\n",
    "indices = np.argsort(importances)\n",
    "plt.figure(figsize=(15,5))\n",
    "plt.barh(range(len(indices)), importances[indices], yerr=std[indices], color='lightblue')\n",
    "ticks = plt.yticks(range(len(indices)), df.columns)"
   ]
  },
  {
   "cell_type": "code",
   "execution_count": null,
   "metadata": {
    "collapsed": true
   },
   "outputs": [],
   "source": [
    "df_domain = pd.get_dummies(df['email_domain_ending'])\n",
    "frames = [df, df_domain]\n",
    "df = pd.concat(frames, axis=1)\n",
    "df = df.drop('email_domain_ending', axis=1)"
   ]
  },
  {
   "cell_type": "markdown",
   "metadata": {},
   "source": [
    "# Gradient boosting"
   ]
  },
  {
   "cell_type": "code",
   "execution_count": null,
   "metadata": {
    "collapsed": true
   },
   "outputs": [],
   "source": [
    "from sklearn.ensemble import GradientBoostingClassifier\n",
    "gbc = GradientBoostingClassifier()\n",
    "gbc.fit(X_train, y_train)\n",
    "print gbc.score(X_test, y_test)\n",
    "gb_imp = pd.DataFrame(zip(X.columns, np.transpose(gbc.feature_importances_)))\n",
    "gb_imp"
   ]
  },
  {
   "cell_type": "code",
   "execution_count": null,
   "metadata": {
    "collapsed": true
   },
   "outputs": [],
   "source": [
    "gb_imp.sort_values(1, ascending=True, inplace=True)\n",
    "plt.figure(figsize=(15,5))\n",
    "plt.barh(range(gb_imp.shape[0]), gb_imp[1], color='lightblue')\n",
    "ticks = plt.yticks(range(gb_imp.shape[0]), gb_imp[0])"
   ]
  }
 ],
 "metadata": {
  "kernelspec": {
   "display_name": "Python 2",
   "language": "python",
   "name": "python2"
  },
  "language_info": {
   "codemirror_mode": {
    "name": "ipython",
    "version": 2
   },
   "file_extension": ".py",
   "mimetype": "text/x-python",
   "name": "python",
   "nbconvert_exporter": "python",
   "pygments_lexer": "ipython2",
   "version": "2.7.11"
  }
 },
 "nbformat": 4,
 "nbformat_minor": 0
}
